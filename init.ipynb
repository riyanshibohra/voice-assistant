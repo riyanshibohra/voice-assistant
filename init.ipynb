{
 "cells": [
  {
   "cell_type": "markdown",
   "metadata": {},
   "source": [
    "# Creating a voice assistant for knowledge base!"
   ]
  },
  {
   "cell_type": "markdown",
   "metadata": {},
   "source": [
    "Using Whisper, OpenAI, Eleven Labs, and ActiveLoop."
   ]
  },
  {
   "cell_type": "code",
   "execution_count": 1,
   "metadata": {},
   "outputs": [],
   "source": [
    "from dotenv import load_dotenv\n",
    "import os\n",
    "load_dotenv()\n",
    "\n",
    "OPENAI_API_KEY = os.getenv(\"OPENAI_API_KEY\")\n",
    "ELEVEN_API_KEY = os.getenv(\"ELEVEN_API_KEY\")\n",
    "ACTIVELOOP_TOKEN = os.getenv(\"ACTIVELOOP_TOKEN\")"
   ]
  },
  {
   "cell_type": "markdown",
   "metadata": {},
   "source": [
    "## Knowledge Base"
   ]
  },
  {
   "cell_type": "code",
   "execution_count": 2,
   "metadata": {},
   "outputs": [],
   "source": [
    "# Importing the necessary libraries\n",
    "import os\n",
    "import requests\n",
    "from bs4 import BeautifulSoup\n",
    "from langchain.embeddings.openai import OpenAIEmbeddings\n",
    "from langchain.vectorstores import DeepLake\n",
    "from langchain.text_splitter import CharacterTextSplitter\n",
    "from langchain.document_loaders import TextLoader\n",
    "import re\n",
    "import warnings\n",
    "warnings.filterwarnings(\"ignore\")"
   ]
  },
  {
   "cell_type": "code",
   "execution_count": 3,
   "metadata": {},
   "outputs": [],
   "source": [
    "my_activeloop_org_id = \"ACTIVELOOP_TOKEN\"\n",
    "dataset_name = \"voice-assistant\"\n",
    "dataset_path= f'hub://{my_activeloop_org_id}/{dataset_name}'\n",
    "\n",
    "embeddings = OpenAIEmbeddings(model=\"text-embedding-ada-002\")"
   ]
  },
  {
   "cell_type": "markdown",
   "metadata": {},
   "source": [
    "### Web scraping content ( Python library articles ) from Hugging Face Hub"
   ]
  },
  {
   "cell_type": "code",
   "execution_count": 4,
   "metadata": {},
   "outputs": [],
   "source": [
    "# Function to get the documentation URLs\n",
    "\n",
    "def get_documentation_urls():\n",
    "\n",
    "    return[\n",
    "        \t'/docs/huggingface_hub/guides/overview',\n",
    "\t\t    '/docs/huggingface_hub/guides/download',\n",
    "\t\t    '/docs/huggingface_hub/guides/upload',\n",
    "\t\t    '/docs/huggingface_hub/guides/hf_file_system',\n",
    "\t\t    '/docs/huggingface_hub/guides/repository',\n",
    "\t\t    '/docs/huggingface_hub/guides/search',\n",
    "    ]"
   ]
  },
  {
   "cell_type": "code",
   "execution_count": 5,
   "metadata": {},
   "outputs": [],
   "source": [
    "# Function to construct the full URL\n",
    "\n",
    "def construct_full_url(base_url, relative_url):\n",
    "    return base_url + relative_url"
   ]
  },
  {
   "cell_type": "code",
   "execution_count": 6,
   "metadata": {},
   "outputs": [],
   "source": [
    "def scrape_page_content(url):\n",
    "    response = requests.get(url)    #get request to the url\n",
    "    soup = BeautifulSoup(response.text, 'html.parser')    #use beautiful soup to parse the html content\n",
    "    text = soup.body.text.strip()     # Extract the desired content from the page (in this case, the body text)\n",
    "    text = re.sub(r'[\\x00-\\x08\\x0b-\\x0c\\x0e-\\x1f\\x7f-\\xff]', '', text)\n",
    "    text = re.sub(r'\\s+', ' ', text)    # Remove any whitespace characters\n",
    "    return text.strip()"
   ]
  },
  {
   "cell_type": "code",
   "execution_count": 7,
   "metadata": {},
   "outputs": [],
   "source": [
    "# Function to scrape all content from the given URLs and save to a file\n",
    "\n",
    "def scrape_all_content(base_url,relative_urls,filename):\n",
    "\n",
    "    content = []\n",
    "    for i in relative_urls:\n",
    "        full_url = construct_full_url(base_url,i)\n",
    "        scraped_content = scrape_page_content(full_url)\n",
    "        content.append(scraped_content.rstrip('\\n'))\n",
    "\n",
    "    # Save the content to a file\n",
    "    with open(filename, 'w', encoding='utf-8') as file:\n",
    "        for item in content:\n",
    "            file.write(\"%s\\n\" % item)\n",
    "    return content"
   ]
  },
  {
   "cell_type": "code",
   "execution_count": null,
   "metadata": {},
   "outputs": [],
   "source": [
    "# Define a function to load documents from a file\n",
    "\n",
    "def load_docs(root_dir,filename):"
   ]
  },
  {
   "cell_type": "code",
   "execution_count": null,
   "metadata": {},
   "outputs": [],
   "source": []
  }
 ],
 "metadata": {
  "kernelspec": {
   "display_name": "venv",
   "language": "python",
   "name": "python3"
  },
  "language_info": {
   "codemirror_mode": {
    "name": "ipython",
    "version": 3
   },
   "file_extension": ".py",
   "mimetype": "text/x-python",
   "name": "python",
   "nbconvert_exporter": "python",
   "pygments_lexer": "ipython3",
   "version": "3.9.21"
  }
 },
 "nbformat": 4,
 "nbformat_minor": 2
}
